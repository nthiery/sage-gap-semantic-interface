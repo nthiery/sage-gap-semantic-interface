{
 "cells": [
  {
   "cell_type": "code",
   "execution_count": 80,
   "metadata": {
    "collapsed": true
   },
   "outputs": [],
   "source": [
    "from pickle import Pickler, _Unpickler, dumps\n",
    "import io\n",
    "import pickle\n",
    "import copy\n",
    "from openmath import openmath as om\n",
    "def OMloads(str):\n",
    "    file = io.BytesIO(str)\n",
    "    import pdb\n",
    "    pdb.set_trace()\n",
    "    return OMUnpickler(file).load()\n",
    "def mydump(obj):\n",
    "    file = StringIO()\n",
    "    MyPickler(file, protocol=0).dump(obj)\n",
    "    return file.getvalue()\n",
    "class MyPickler(Pickler):\n",
    "    pass"
   ]
  },
  {
   "cell_type": "code",
   "execution_count": 81,
   "metadata": {
    "collapsed": true
   },
   "outputs": [],
   "source": [
    "class OMUnpickler(_Unpickler):\n",
    "    dispatch = copy.copy(_Unpickler.dispatch)\n",
    "    def load_int(selfbin):\n",
    "        _Unpickler.load_int(self)\n",
    "        self.stack.append(om.OMInteger(self.stack.pop()))\n",
    "    dispatch[pickle.INT[0]] = load_int\n",
    "\n",
    "    def load_binint1(self):\n",
    "        _Unpickler.load_binint1(self)\n",
    "        self.stack.append(om.OMInteger(self.stack.pop()))\n",
    "    dispatch[pickle.BININT1[0]] = load_binint1\n",
    "    \n",
    "    def load_list(self):\n",
    "        _Unpickler.load_list(self)\n",
    "        self.stack.append(om.OMList(self.stack.pop()))\n",
    "    dispatch[pickle.LIST[0]] = load_list\n",
    "\n",
    "    def load_empty_list(self):\n",
    "        # This is assuming we own the OpenMath object\n",
    "        self.append(openmath.convert.to_openmath([]))\n",
    "    dispatch[pickle.EMPTY_LIST[0]] = load_empty_list\n",
    "\n",
    "    def load_append(self):\n",
    "        stack = self.stack\n",
    "        value = stack.pop()\n",
    "        list = stack[-1]\n",
    "        list.arguments.append(value)\n",
    "    dispatch[pickle.APPEND[0]] = load_append\n",
    "        \n",
    "   \n",
    "    def load_appends(self):\n",
    "        items = self.pop_mark()\n",
    "        list_obj = self.stack[-1]\n",
    "        if isinstance(list_obj, list):\n",
    "            list_obj.extend(items)\n",
    "        else:\n",
    "            append = list_obj.arguments.append\n",
    "            for item in items:\n",
    "                append(item)\n",
    "    dispatch[pickle.APPENDS[0]] = load_appends\n",
    "        \n"
   ]
  },
  {
   "cell_type": "code",
   "execution_count": 62,
   "metadata": {},
   "outputs": [
    {
     "data": {
      "text/plain": [
       "OMInteger(3, id=None)"
      ]
     },
     "execution_count": 62,
     "metadata": {},
     "output_type": "execute_result"
    }
   ],
   "source": [
    "OMloads(dumps(3))"
   ]
  },
  {
   "cell_type": "code",
   "execution_count": 82,
   "metadata": {},
   "outputs": [
    {
     "name": "stdout",
     "output_type": "stream",
     "text": [
      "> <ipython-input-80-11ffb8fb8b6d>(10)OMloads()\n",
      "-> return OMUnpickler(file).load()\n",
      "(Pdb) c\n",
      "OMApplication(OMSymbol('list', 'list1', id=None, cdbase=None), <map object at 0x7fa32a5c9080>, id=None, cdbase=None)\n",
      "[OMInteger(3, id=None), OMInteger(1, id=None), OMInteger(2, id=None)]\n"
     ]
    }
   ],
   "source": [
    "t = OMloads(dumps([3,1,2]));\n",
    "print(t)\n",
    "print(t.arguments)"
   ]
  },
  {
   "cell_type": "code",
   "execution_count": null,
   "metadata": {},
   "outputs": [
    {
     "name": "stdout",
     "output_type": "stream",
     "text": [
      "> <ipython-input-80-11ffb8fb8b6d>(10)OMloads()\n",
      "-> return OMUnpickler(file).load()\n",
      "(Pdb) b pickle._Unpickler.load\n",
      "Breakpoint 6 at /opt/miniconda3/lib/python3.6/pickle.py:1025\n",
      "(Pdb) c\n",
      "> /opt/miniconda3/lib/python3.6/pickle.py(1032)load()\n",
      "-> if not hasattr(self, \"_file_read\"):\n",
      "(Pdb) n\n",
      "> /opt/miniconda3/lib/python3.6/pickle.py(1035)load()\n",
      "-> self._unframer = _Unframer(self._file_read, self._file_readline)\n",
      "(Pdb) \n",
      "> /opt/miniconda3/lib/python3.6/pickle.py(1036)load()\n",
      "-> self.read = self._unframer.read\n",
      "(Pdb) \n",
      "> /opt/miniconda3/lib/python3.6/pickle.py(1037)load()\n",
      "-> self.readline = self._unframer.readline\n",
      "(Pdb) \n",
      "> /opt/miniconda3/lib/python3.6/pickle.py(1038)load()\n",
      "-> self.metastack = []\n",
      "(Pdb) \n",
      "> /opt/miniconda3/lib/python3.6/pickle.py(1039)load()\n",
      "-> self.stack = []\n",
      "(Pdb) \n",
      "> /opt/miniconda3/lib/python3.6/pickle.py(1040)load()\n",
      "-> self.append = self.stack.append\n",
      "(Pdb) \n",
      "> /opt/miniconda3/lib/python3.6/pickle.py(1041)load()\n",
      "-> self.proto = 0\n",
      "(Pdb) \n",
      "> /opt/miniconda3/lib/python3.6/pickle.py(1042)load()\n",
      "-> read = self.read\n",
      "(Pdb) \n",
      "> /opt/miniconda3/lib/python3.6/pickle.py(1043)load()\n",
      "-> dispatch = self.dispatch\n",
      "(Pdb) \n",
      "> /opt/miniconda3/lib/python3.6/pickle.py(1044)load()\n",
      "-> try:\n",
      "(Pdb) \n",
      "> /opt/miniconda3/lib/python3.6/pickle.py(1045)load()\n",
      "-> while True:\n",
      "(Pdb) \n",
      "> /opt/miniconda3/lib/python3.6/pickle.py(1046)load()\n",
      "-> key = read(1)\n",
      "(Pdb) \n",
      "> /opt/miniconda3/lib/python3.6/pickle.py(1047)load()\n",
      "-> if not key:\n",
      "(Pdb) \n",
      "> /opt/miniconda3/lib/python3.6/pickle.py(1049)load()\n",
      "-> assert isinstance(key, bytes_types)\n",
      "(Pdb) \n",
      "> /opt/miniconda3/lib/python3.6/pickle.py(1050)load()\n",
      "-> dispatch[key[0]](self)\n",
      "(Pdb) p dispatch[key[0]]\n",
      "<function _Unpickler.load_proto at 0x7fa33f79e840>\n",
      "(Pdb) n\n",
      "> /opt/miniconda3/lib/python3.6/pickle.py(1046)load()\n",
      "-> key = read(1)\n",
      "(Pdb) n\n",
      "> /opt/miniconda3/lib/python3.6/pickle.py(1047)load()\n",
      "-> if not key:\n",
      "(Pdb) n\n",
      "> /opt/miniconda3/lib/python3.6/pickle.py(1049)load()\n",
      "-> assert isinstance(key, bytes_types)\n",
      "(Pdb) n\n",
      "> /opt/miniconda3/lib/python3.6/pickle.py(1050)load()\n",
      "-> dispatch[key[0]](self)\n",
      "(Pdb)  p dispatch[key[0]]\n",
      "<function _Unpickler.load_global at 0x7fa33f7a0048>\n",
      "(Pdb) s\n",
      "--Call--\n",
      "> /opt/miniconda3/lib/python3.6/pickle.py(1335)load_global()\n",
      "-> def load_global(self):\n",
      "(Pdb) s\n",
      "> /opt/miniconda3/lib/python3.6/pickle.py(1336)load_global()\n",
      "-> module = self.readline()[:-1].decode(\"utf-8\")\n",
      "(Pdb) s\n",
      "--Call--\n",
      "> /opt/miniconda3/lib/python3.6/pickle.py(240)readline()\n",
      "-> def readline(self):\n",
      "(Pdb) p module\n",
      "*** NameError: name 'module' is not defined\n",
      "(Pdb) n\n",
      "> /opt/miniconda3/lib/python3.6/pickle.py(241)readline()\n",
      "-> if self.current_frame:\n",
      "(Pdb) \n",
      "> /opt/miniconda3/lib/python3.6/pickle.py(251)readline()\n",
      "-> return self.file_readline()\n",
      "(Pdb) \n",
      "--Return--\n",
      "> /opt/miniconda3/lib/python3.6/pickle.py(251)readline()->b'builtins\\n'\n",
      "-> return self.file_readline()\n",
      "(Pdb) \n",
      "> /opt/miniconda3/lib/python3.6/pickle.py(1337)load_global()\n",
      "-> name = self.readline()[:-1].decode(\"utf-8\")\n",
      "(Pdb) \n",
      "> /opt/miniconda3/lib/python3.6/pickle.py(1338)load_global()\n",
      "-> klass = self.find_class(module, name)\n",
      "(Pdb) p klass\n",
      "*** NameError: name 'klass' is not defined\n",
      "(Pdb) p module\n",
      "'builtins'\n",
      "(Pdb) p name\n",
      "'set'\n",
      "(Pdb) p self.readline()\n",
      "b'q\\x00]q\\x01K\\x01a\\x85q\\x02Rq\\x03.'\n"
     ]
    }
   ],
   "source": [
    "OMloads(dumps({1}))"
   ]
  },
  {
   "cell_type": "code",
   "execution_count": null,
   "metadata": {
    "collapsed": true
   },
   "outputs": [],
   "source": [
    "b pickle._Unpickler.load\n",
    "p dispatch[key[0]]"
   ]
  }
 ],
 "metadata": {
  "kernelspec": {
   "display_name": "Python 3",
   "language": "python",
   "name": "python3"
  },
  "language_info": {
   "codemirror_mode": {
    "name": "ipython",
    "version": 3
   },
   "file_extension": ".py",
   "mimetype": "text/x-python",
   "name": "python",
   "nbconvert_exporter": "python",
   "pygments_lexer": "ipython3",
   "version": "3.6.1"
  }
 },
 "nbformat": 4,
 "nbformat_minor": 2
}
